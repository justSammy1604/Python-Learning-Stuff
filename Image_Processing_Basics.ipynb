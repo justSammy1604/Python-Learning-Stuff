{
 "cells": [
  {
   "cell_type": "code",
   "execution_count": 11,
   "id": "9855c60e",
   "metadata": {},
   "outputs": [],
   "source": [
    "import cv2 as cv\n",
    "import matplotlib.pyplot as plt\n",
    "import numpy as np\n",
    "from PIL import Image,ImageFilter"
   ]
  },
  {
   "cell_type": "code",
   "execution_count": 12,
   "id": "018dfc62",
   "metadata": {},
   "outputs": [
    {
     "name": "stderr",
     "output_type": "stream",
     "text": [
      "[ WARN:0@598.991] global loadsave.cpp:248 findDecoder imread_('/home/samuel/Pictures/Lenna_(test_image).png'): can't open/read file: check file path/integrity\n"
     ]
    }
   ],
   "source": [
    "img = cv.imread('/home/samuel/Pictures/Lenna_(test_image).png',0)"
   ]
  },
  {
   "cell_type": "code",
   "execution_count": 13,
   "id": "4a4a9e39",
   "metadata": {},
   "outputs": [
    {
     "ename": "TypeError",
     "evalue": "unsupported operand type(s) for -: 'int' and 'NoneType'",
     "output_type": "error",
     "traceback": [
      "\u001b[0;31m---------------------------------------------------------------------------\u001b[0m",
      "\u001b[0;31mTypeError\u001b[0m                                 Traceback (most recent call last)",
      "\u001b[0;32m/tmp/ipykernel_386879/335622782.py\u001b[0m in \u001b[0;36m<module>\u001b[0;34m\u001b[0m\n\u001b[1;32m      1\u001b[0m \u001b[0;31m# Finding the negtative of the image\u001b[0m\u001b[0;34m\u001b[0m\u001b[0;34m\u001b[0m\u001b[0m\n\u001b[0;32m----> 2\u001b[0;31m \u001b[0mneg\u001b[0m \u001b[0;34m=\u001b[0m \u001b[0mabs\u001b[0m\u001b[0;34m(\u001b[0m\u001b[0;36m255\u001b[0m\u001b[0;34m-\u001b[0m\u001b[0mimg\u001b[0m\u001b[0;34m)\u001b[0m\u001b[0;34m\u001b[0m\u001b[0;34m\u001b[0m\u001b[0m\n\u001b[0m",
      "\u001b[0;31mTypeError\u001b[0m: unsupported operand type(s) for -: 'int' and 'NoneType'"
     ]
    }
   ],
   "source": [
    "# Finding the negtative of the image\n",
    "neg = abs(255-img)"
   ]
  },
  {
   "cell_type": "code",
   "execution_count": null,
   "id": "942cd8df",
   "metadata": {},
   "outputs": [],
   "source": [
    "cv.imwrite('Negative.png',neg)"
   ]
  },
  {
   "cell_type": "code",
   "execution_count": null,
   "id": "3469998e",
   "metadata": {},
   "outputs": [],
   "source": [
    "# Log Transformations\n",
    "C = 255 / (np.log(1+np.max(img)))\n",
    "\n",
    "S = C * np.log(1 + img)\n",
    "\n",
    "cv.imwrite('Log Transformed.png',S)"
   ]
  },
  {
   "cell_type": "code",
   "execution_count": null,
   "id": "c5a87077",
   "metadata": {},
   "outputs": [],
   "source": [
    "# Gamma Transforms\n",
    "gamma = 0.5\n",
    "\n",
    "S = np.array(255 * (img/255) ** gamma)\n",
    "\n",
    "cv.imwrite('Gamma_Value.png',S)"
   ]
  },
  {
   "cell_type": "code",
   "execution_count": null,
   "id": "5c91bf91",
   "metadata": {},
   "outputs": [],
   "source": [
    "file = '/media/samuel/New Volume3/ZZZ/Lenna_(test_image).png'"
   ]
  },
  {
   "cell_type": "code",
   "execution_count": null,
   "id": "9a51a3f9",
   "metadata": {},
   "outputs": [],
   "source": [
    "with Image.open(file) as img:\n",
    "    img.load()\n",
    "    \n",
    "type(img)\n",
    "\n",
    "isinstance(img,Image.Image)\n",
    "\n",
    "img.show()\n",
    "img.format #mode,size"
   ]
  },
  {
   "cell_type": "code",
   "execution_count": null,
   "id": "32f9ae07",
   "metadata": {},
   "outputs": [],
   "source": [
    "img_crop = img.crop((40,200,400,900))\n",
    "img_crop.size\n",
    "# img_crop.show()"
   ]
  },
  {
   "cell_type": "code",
   "execution_count": null,
   "id": "f0f6a7fd",
   "metadata": {},
   "outputs": [],
   "source": [
    "res_img = img_crop.resize((img_crop.width // 8, img_crop.height // 8))"
   ]
  },
  {
   "cell_type": "code",
   "execution_count": null,
   "id": "b00df86d",
   "metadata": {},
   "outputs": [],
   "source": [
    "res_img.show()\n",
    "res_img = img_crop.reduce(5)\n",
    "# img_crop.save('cropped_image.png')"
   ]
  },
  {
   "cell_type": "code",
   "execution_count": null,
   "id": "c3f5a24f",
   "metadata": {},
   "outputs": [],
   "source": [
    "new_img = img.rotate(55)\n",
    "new_img.show()"
   ]
  },
  {
   "cell_type": "code",
   "execution_count": 16,
   "id": "7826805b",
   "metadata": {},
   "outputs": [],
   "source": [
    "color_img = '/home/samuel/Downloads/strawberry-6648685_1920.jpg'"
   ]
  },
  {
   "cell_type": "code",
   "execution_count": 17,
   "id": "73ae4bb8",
   "metadata": {},
   "outputs": [],
   "source": [
    "with Image.open(color_img) as limg:\n",
    "    limg.load()"
   ]
  },
  {
   "cell_type": "code",
   "execution_count": 18,
   "id": "8594ea07",
   "metadata": {},
   "outputs": [
    {
     "data": {
      "text/plain": [
       "('R', 'G', 'B')"
      ]
     },
     "execution_count": 18,
     "metadata": {},
     "output_type": "execute_result"
    }
   ],
   "source": [
    "cmyk_img = limg.convert('CMYK')\n",
    "# cmyk_img.show()\n",
    "gray_img = limg.convert('L')\n",
    "# gray_img.show()\n",
    "limg.size\n",
    "limg.getbands()"
   ]
  },
  {
   "cell_type": "code",
   "execution_count": 19,
   "id": "55c6f826",
   "metadata": {},
   "outputs": [
    {
     "data": {
      "text/plain": [
       "'L'"
      ]
     },
     "execution_count": 19,
     "metadata": {},
     "output_type": "execute_result"
    }
   ],
   "source": [
    "red,green,blue = limg.split()\n",
    "\n",
    "red.mode"
   ]
  },
  {
   "cell_type": "code",
   "execution_count": 20,
   "id": "5470bae6",
   "metadata": {},
   "outputs": [],
   "source": [
    "zero_band = red.point(lambda _: 0)\n",
    "\n",
    "red_merge = Image.merge('RGB',(red,zero_band,zero_band))\n",
    "\n",
    "blue_merge = Image.merge('RGB',(zero_band,green,zero_band))\n",
    "\n",
    "green_merge = Image.merge('RGB',(zero_band,zero_band,blue))\n",
    "\n",
    "red_merge.show()\n",
    "# blue_merge.show()\n",
    "# green_merge.show()"
   ]
  },
  {
   "cell_type": "code",
   "execution_count": 21,
   "id": "2ccee834",
   "metadata": {},
   "outputs": [],
   "source": [
    "# Blurring,Shapening,Smoothing\n",
    "blur_img = limg.filter(ImageFilter.BLUR)\n",
    "\n",
    "limg.crop((900,800,1200,1200)).show()\n",
    "# blur_img.crop((900,800,1200,1200)).show()\n",
    "# blur_img.show()"
   ]
  },
  {
   "cell_type": "code",
   "execution_count": 22,
   "id": "a85af859",
   "metadata": {},
   "outputs": [],
   "source": [
    "# limg.filter(ImageFilter.BoxBlur(40)).show()\n",
    "# limg.filter(ImageFilter.GaussianBlur(30)).show()\n",
    "# limg.filter(ImageFilter.MedianFilter).show()"
   ]
  },
  {
   "cell_type": "code",
   "execution_count": 23,
   "id": "c7e883a8",
   "metadata": {},
   "outputs": [],
   "source": [
    "sharp_img = limg.filter(ImageFilter.SHARPEN) #SMOOTH\n",
    "\n",
    "# limg.crop((300,400,800,1000)).show()\n",
    "# sharp_img.crop((300,400,800,1000)).show()"
   ]
  },
  {
   "cell_type": "code",
   "execution_count": 24,
   "id": "b870f1f2",
   "metadata": {},
   "outputs": [],
   "source": [
    "limg_gray = limg.convert('L')\n",
    "edg = limg.filter(ImageFilter.FIND_EDGES)\n",
    "\n",
    "# edg.show()"
   ]
  },
  {
   "cell_type": "code",
   "execution_count": 25,
   "id": "5ac56d53",
   "metadata": {},
   "outputs": [],
   "source": [
    "limg_gray_smooth = limg_gray.filter(ImageFilter.SMOOTH)\n",
    "edg_smooth = limg_gray_smooth.filter(ImageFilter.FIND_EDGES)\n",
    "\n",
    "# edg_smooth.show()"
   ]
  },
  {
   "cell_type": "code",
   "execution_count": 26,
   "id": "5b1bfab0",
   "metadata": {},
   "outputs": [],
   "source": [
    "edge_en = limg_gray_smooth.filter(ImageFilter.EDGE_ENHANCE)\n",
    "\n",
    "# edge_en.show()"
   ]
  },
  {
   "cell_type": "code",
   "execution_count": 28,
   "id": "db6d8618",
   "metadata": {},
   "outputs": [],
   "source": [
    "emboss = limg_gray_smooth.filter(ImageFilter.EMBOSS)\n",
    "# emboss.show()"
   ]
  },
  {
   "cell_type": "code",
   "execution_count": 30,
   "id": "37b7a598",
   "metadata": {},
   "outputs": [],
   "source": [
    "hen_img = '/home/samuel/Downloads/pheasant-7296216_1920.jpg'\n",
    "\n",
    "mon_img = '/home/samuel/Downloads/monastery-7904013_1920.jpg'\n",
    "\n",
    "with Image.open(hen_img) as hen:\n",
    "    hen.load()\n",
    "    \n",
    "with Image.open(mon_img) as monas:\n",
    "    monas.load()"
   ]
  },
  {
   "cell_type": "code",
   "execution_count": 34,
   "id": "76dff81b",
   "metadata": {},
   "outputs": [],
   "source": [
    "hen_gray = hen.convert('L')\n",
    "# hen_gray.show()\n",
    "\n",
    "T = 100\n",
    "hen_T = hen_gray.point(\n",
    "lambda x: 0 if x>T else 255 #Negative of Image\n",
    ")\n",
    "\n",
    "hen_T.show()"
   ]
  },
  {
   "cell_type": "code",
   "execution_count": 37,
   "id": "776f2c4a",
   "metadata": {},
   "outputs": [],
   "source": [
    "red,green,blue = hen.split()\n",
    "T = 40\n",
    "hen_t = blue.point(\n",
    "lambda X: 255 if X>T else 0\n",
    ")\n",
    "hen_t = hen_t.convert('1')\n",
    "# hen_t.show()"
   ]
  },
  {
   "cell_type": "code",
   "execution_count": 48,
   "id": "130f9438",
   "metadata": {},
   "outputs": [],
   "source": [
    "# Erosion and Dialation\n",
    "st_1 = hen_gray.filter(ImageFilter.MaxFilter(23))\n",
    "st_1 = hen_gray.filter(ImageFilter.MinFilter(23))\n",
    "\n",
    "# st_1.show()"
   ]
  },
  {
   "cell_type": "code",
   "execution_count": null,
   "id": "ce5103e7",
   "metadata": {},
   "outputs": [],
   "source": []
  }
 ],
 "metadata": {
  "kernelspec": {
   "display_name": "Python 3 (ipykernel)",
   "language": "python",
   "name": "python3"
  },
  "language_info": {
   "codemirror_mode": {
    "name": "ipython",
    "version": 3
   },
   "file_extension": ".py",
   "mimetype": "text/x-python",
   "name": "python",
   "nbconvert_exporter": "python",
   "pygments_lexer": "ipython3",
   "version": "3.10.12"
  }
 },
 "nbformat": 4,
 "nbformat_minor": 5
}
