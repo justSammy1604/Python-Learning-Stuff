{
  "cells": [
    {
      "cell_type": "markdown",
      "metadata": {
        "id": "view-in-github",
        "colab_type": "text"
      },
      "source": [
        "<a href=\"https://colab.research.google.com/github/justSammy1604/Python-Learning-Stuff/blob/main/LSTM_Understanding.ipynb\" target=\"_parent\"><img src=\"https://colab.research.google.com/assets/colab-badge.svg\" alt=\"Open In Colab\"/></a>"
      ]
    },
    {
      "cell_type": "code",
      "execution_count": null,
      "metadata": {
        "colab": {
          "base_uri": "https://localhost:8080/"
        },
        "id": "II16_Ye7NdWt",
        "outputId": "e0769f89-6304-4c28-c868-19d5fc1e5349"
      },
      "outputs": [
        {
          "output_type": "stream",
          "name": "stderr",
          "text": [
            "[nltk_data] Downloading package stopwords to /root/nltk_data...\n",
            "[nltk_data]   Unzipping corpora/stopwords.zip.\n"
          ]
        }
      ],
      "source": [
        "import pandas as pd\n",
        "df = pd.read_csv('/content/IMDB_Dataset.csv')\n",
        "df.head()\n",
        "\n",
        "import string\n",
        "import nltk\n",
        "nltk.download('stopwords')\n",
        "from nltk.corpus import stopwords\n",
        "stop = stopwords.words('english')"
      ]
    },
    {
      "cell_type": "markdown",
      "metadata": {
        "id": "3dqFae10SUrC"
      },
      "source": [
        "Clean data."
      ]
    },
    {
      "cell_type": "code",
      "execution_count": null,
      "metadata": {
        "id": "Fb-7rqSxX9-8"
      },
      "outputs": [],
      "source": [
        "string = \"Encouraged by the positive comments about this film on here I was looking forward to watching this film. Bad mistake. I've seen 950+ films and this is truly one of the worst of them - it's awful in almost every way: editing, pacing, storyline, 'acting,' soundtrack (the film's only song - a lame country tune - is played no less than four times). The film looks cheap and nasty and is boring in the extreme. Rarely have I been so happy to see the end credits of a film. <br /><br />The only thing that prevents me giving this a 1-score is Harvey Keitel - while this is far from his best performance he at least seems to be making a bit of an effort. One for Keitel obsessives only.\"\n",
        "test_string = string"
      ]
    },
    {
      "cell_type": "code",
      "execution_count": null,
      "metadata": {
        "colab": {
          "base_uri": "https://localhost:8080/"
        },
        "id": "0rvYf2EeOUCE",
        "outputId": "38a58dfd-8e61-452d-c3fd-2cbe561a3a50"
      },
      "outputs": [
        {
          "output_type": "stream",
          "name": "stdout",
          "text": [
            "Encouraged by the positive comments about this film on here I was looking forward to watching this film. Bad mistake. I've seen 950+ films and this is truly one of the worst of them - it's awful in almost every way: editing, pacing, storyline, 'acting,' soundtrack (the film's only song - a lame country tune - is played no less than four times). The film looks cheap and nasty and is boring in the extreme. Rarely have I been so happy to see the end credits of a film.  The only thing that prevents me giving this a 1-score is Harvey Keitel - while this is far from his best performance he at least seems to be making a bit of an effort. One for Keitel obsessives only.\n"
          ]
        }
      ],
      "source": [
        "## Testing if the functions work\n",
        "def remove_br(a_string):\n",
        "  return a_string.replace('<br /><br />',\" \")\n",
        "\n",
        "test = remove_br(string)\n",
        "print(test)"
      ]
    },
    {
      "cell_type": "code",
      "execution_count": null,
      "metadata": {
        "colab": {
          "base_uri": "https://localhost:8080/"
        },
        "id": "-hKGUnAhUPYo",
        "outputId": "a793c221-d263-4790-c84f-4ce0da95d752"
      },
      "outputs": [
        {
          "output_type": "stream",
          "name": "stdout",
          "text": [
            "Encouraged by the positive comments about this film on here I was looking forward to watching this film Bad mistake Ive seen 950 films and this is truly one of the worst of them  its awful in almost every way editing pacing storyline acting soundtrack the films only song  a lame country tune  is played no less than four times The film looks cheap and nasty and is boring in the extreme Rarely have I been so happy to see the end credits of a film  The only thing that prevents me giving this a 1score is Harvey Keitel  while this is far from his best performance he at least seems to be making a bit of an effort One for Keitel obsessives only\n"
          ]
        }
      ],
      "source": [
        "import string\n",
        "punc_set = set(string.punctuation)\n",
        "def remove_punctuation(a_string):\n",
        "  return ''.join([char for char in a_string if char not in punc_set])\n",
        "\n",
        "test = remove_punctuation(test)\n",
        "print(test)"
      ]
    },
    {
      "cell_type": "code",
      "execution_count": null,
      "metadata": {
        "colab": {
          "base_uri": "https://localhost:8080/"
        },
        "id": "GE1dV2eoUvqS",
        "outputId": "c19c9b12-6d31-40c2-cbf4-365df1b6094a"
      },
      "outputs": [
        {
          "output_type": "stream",
          "name": "stdout",
          "text": [
            "encouraged by the positive comments about this film on here i was looking forward to watching this film bad mistake ive seen 950 films and this is truly one of the worst of them  its awful in almost every way editing pacing storyline acting soundtrack the films only song  a lame country tune  is played no less than four times the film looks cheap and nasty and is boring in the extreme rarely have i been so happy to see the end credits of a film  the only thing that prevents me giving this a 1score is harvey keitel  while this is far from his best performance he at least seems to be making a bit of an effort one for keitel obsessives only\n"
          ]
        }
      ],
      "source": [
        "def to_lower(string):\n",
        "  return string.lower()\n",
        "\n",
        "test = to_lower(test)\n",
        "print(test)"
      ]
    },
    {
      "cell_type": "code",
      "execution_count": null,
      "metadata": {
        "colab": {
          "base_uri": "https://localhost:8080/"
        },
        "id": "VRlyqRCmU7GJ",
        "outputId": "18c1158d-c15f-43d8-d0e6-57042339f0df"
      },
      "outputs": [
        {
          "output_type": "stream",
          "name": "stdout",
          "text": [
            "['encouraged', 'by', 'the', 'positive', 'comments', 'about', 'this', 'film', 'on', 'here', 'i', 'was', 'looking', 'forward', 'to', 'watching', 'this', 'film', 'bad', 'mistake', 'ive', 'seen', '950', 'films', 'and', 'this', 'is', 'truly', 'one', 'of', 'the', 'worst', 'of', 'them', 'its', 'awful', 'in', 'almost', 'every', 'way', 'editing', 'pacing', 'storyline', 'acting', 'soundtrack', 'the', 'films', 'only', 'song', 'a', 'lame', 'country', 'tune', 'is', 'played', 'no', 'less', 'than', 'four', 'times', 'the', 'film', 'looks', 'cheap', 'and', 'nasty', 'and', 'is', 'boring', 'in', 'the', 'extreme', 'rarely', 'have', 'i', 'been', 'so', 'happy', 'to', 'see', 'the', 'end', 'credits', 'of', 'a', 'film', 'the', 'only', 'thing', 'that', 'prevents', 'me', 'giving', 'this', 'a', '1score', 'is', 'harvey', 'keitel', 'while', 'this', 'is', 'far', 'from', 'his', 'best', 'performance', 'he', 'at', 'least', 'seems', 'to', 'be', 'making', 'a', 'bit', 'of', 'an', 'effort', 'one', 'for', 'keitel', 'obsessives', 'only']\n"
          ]
        }
      ],
      "source": [
        "def split_words(string):\n",
        "  return [word for word in string.split(\" \") if word != '']\n",
        "\n",
        "test = split_words(test)\n",
        "print(test)"
      ]
    },
    {
      "cell_type": "code",
      "execution_count": null,
      "metadata": {
        "colab": {
          "base_uri": "https://localhost:8080/"
        },
        "id": "_8DTKUWjVZFq",
        "outputId": "fb1a14c1-a52a-4346-992d-0de65c9f7a6f"
      },
      "outputs": [
        {
          "output_type": "stream",
          "name": "stdout",
          "text": [
            "['encouraged', 'positive', 'comments', 'film', 'looking', 'forward', 'watching', 'film', 'bad', 'mistake', 'ive', 'seen', '950', 'films', 'truly', 'one', 'worst', 'awful', 'almost', 'every', 'way', 'editing', 'pacing', 'storyline', 'acting', 'soundtrack', 'films', 'song', 'lame', 'country', 'tune', 'played', 'less', 'four', 'times', 'film', 'looks', 'cheap', 'nasty', 'boring', 'extreme', 'rarely', 'happy', 'see', 'end', 'credits', 'film', 'thing', 'prevents', 'giving', '1score', 'harvey', 'keitel', 'far', 'best', 'performance', 'least', 'seems', 'making', 'bit', 'effort', 'one', 'keitel', 'obsessives']\n"
          ]
        }
      ],
      "source": [
        "stop = stopwords.words('english')\n",
        "def remove_stopwords(a_list):\n",
        "  return [word for word in a_list if word not in stop]\n",
        "\n",
        "test = remove_stopwords(test)\n",
        "print(test)"
      ]
    },
    {
      "cell_type": "code",
      "execution_count": null,
      "metadata": {
        "colab": {
          "base_uri": "https://localhost:8080/"
        },
        "id": "yzeDGDPjXErh",
        "outputId": "873a4cb0-3315-4462-bd2f-566e6a932858"
      },
      "outputs": [
        {
          "output_type": "execute_result",
          "data": {
            "text/plain": [
              "['encouraged',\n",
              " 'positive',\n",
              " 'comments',\n",
              " 'film',\n",
              " 'looking',\n",
              " 'forward',\n",
              " 'watching',\n",
              " 'film',\n",
              " 'bad',\n",
              " 'mistake',\n",
              " 'ive',\n",
              " 'seen',\n",
              " '950',\n",
              " 'films',\n",
              " 'truly',\n",
              " 'one',\n",
              " 'worst',\n",
              " 'awful',\n",
              " 'almost',\n",
              " 'every',\n",
              " 'way',\n",
              " 'editing',\n",
              " 'pacing',\n",
              " 'storyline',\n",
              " 'acting',\n",
              " 'soundtrack',\n",
              " 'films',\n",
              " 'song',\n",
              " 'lame',\n",
              " 'country',\n",
              " 'tune',\n",
              " 'played',\n",
              " 'less',\n",
              " 'four',\n",
              " 'times',\n",
              " 'film',\n",
              " 'looks',\n",
              " 'cheap',\n",
              " 'nasty',\n",
              " 'boring',\n",
              " 'extreme',\n",
              " 'rarely',\n",
              " 'happy',\n",
              " 'see',\n",
              " 'end',\n",
              " 'credits',\n",
              " 'film',\n",
              " 'thing',\n",
              " 'prevents',\n",
              " 'giving',\n",
              " '1score',\n",
              " 'harvey',\n",
              " 'keitel',\n",
              " 'far',\n",
              " 'best',\n",
              " 'performance',\n",
              " 'least',\n",
              " 'seems',\n",
              " 'making',\n",
              " 'bit',\n",
              " 'effort',\n",
              " 'one',\n",
              " 'keitel',\n",
              " 'obsessives']"
            ]
          },
          "metadata": {},
          "execution_count": 15
        }
      ],
      "source": [
        "def clean_string(string):\n",
        "  return remove_stopwords(split_words(to_lower(remove_punctuation(remove_br(string)))))\n",
        "\n",
        "\n",
        "clean_string(test_string)"
      ]
    },
    {
      "cell_type": "code",
      "execution_count": null,
      "metadata": {
        "colab": {
          "base_uri": "https://localhost:8080/"
        },
        "id": "Pbsj59e3YG_C",
        "outputId": "3a308c05-cef8-48e5-cc12-e3be77b24591"
      },
      "outputs": [
        {
          "output_type": "stream",
          "name": "stdout",
          "text": [
            "sentiment\n",
            "positive    20069\n",
            "negative    19931\n",
            "Name: count, dtype: int64\n",
            "sentiment\n",
            "negative    5069\n",
            "positive    4931\n",
            "Name: count, dtype: int64\n"
          ]
        }
      ],
      "source": [
        "from sklearn.model_selection import train_test_split\n",
        "df_train,df_test = train_test_split(df,test_size=0.2)\n",
        "\n",
        "print(df_train['sentiment'].value_counts())\n",
        "print(df_test['sentiment'].value_counts())\n",
        "\n",
        "df_train['clean_review'] = df_train['review'].apply(lambda x: clean_string(x))\n",
        "df_test['clean_review'] = df_test['review'].apply(lambda x: clean_string(x))"
      ]
    },
    {
      "cell_type": "markdown",
      "metadata": {
        "id": "kQBLdNXNZtTl"
      },
      "source": [
        "### Convert labels"
      ]
    },
    {
      "cell_type": "code",
      "execution_count": null,
      "metadata": {
        "colab": {
          "base_uri": "https://localhost:8080/",
          "height": 226
        },
        "id": "Zb6_LP0eZc7_",
        "outputId": "e6d5b099-526a-4775-96c6-012d61930126"
      },
      "outputs": [
        {
          "output_type": "execute_result",
          "data": {
            "text/plain": [
              "                                                  review sentiment  \\\n",
              "42161  What I think I'll probably like best about the...  negative   \n",
              "9478   I have to admit I laughed a few times during t...  negative   \n",
              "39904  This movie is such a waste of talented people ...  negative   \n",
              "49986  This movie is a disgrace to the Major League F...  negative   \n",
              "20937  Debra Winger's 1987 \"Black Widow\" is MUCH bett...  negative   \n",
              "\n",
              "                                            clean_review  label  \n",
              "42161  [think, ill, probably, like, best, new, star, ...      0  \n",
              "9478   [admit, laughed, times, trivial, 2004, holiday...      0  \n",
              "39904  [movie, waste, talented, people, hollywood, bu...      0  \n",
              "49986  [movie, disgrace, major, league, franchise, li...      0  \n",
              "20937  [debra, wingers, 1987, black, widow, much, bet...      0  "
            ],
            "text/html": [
              "\n",
              "  <div id=\"df-af789dea-61f7-472f-88c1-f43c49c7ec81\" class=\"colab-df-container\">\n",
              "    <div>\n",
              "<style scoped>\n",
              "    .dataframe tbody tr th:only-of-type {\n",
              "        vertical-align: middle;\n",
              "    }\n",
              "\n",
              "    .dataframe tbody tr th {\n",
              "        vertical-align: top;\n",
              "    }\n",
              "\n",
              "    .dataframe thead th {\n",
              "        text-align: right;\n",
              "    }\n",
              "</style>\n",
              "<table border=\"1\" class=\"dataframe\">\n",
              "  <thead>\n",
              "    <tr style=\"text-align: right;\">\n",
              "      <th></th>\n",
              "      <th>review</th>\n",
              "      <th>sentiment</th>\n",
              "      <th>clean_review</th>\n",
              "      <th>label</th>\n",
              "    </tr>\n",
              "  </thead>\n",
              "  <tbody>\n",
              "    <tr>\n",
              "      <th>42161</th>\n",
              "      <td>What I think I'll probably like best about the...</td>\n",
              "      <td>negative</td>\n",
              "      <td>[think, ill, probably, like, best, new, star, ...</td>\n",
              "      <td>0</td>\n",
              "    </tr>\n",
              "    <tr>\n",
              "      <th>9478</th>\n",
              "      <td>I have to admit I laughed a few times during t...</td>\n",
              "      <td>negative</td>\n",
              "      <td>[admit, laughed, times, trivial, 2004, holiday...</td>\n",
              "      <td>0</td>\n",
              "    </tr>\n",
              "    <tr>\n",
              "      <th>39904</th>\n",
              "      <td>This movie is such a waste of talented people ...</td>\n",
              "      <td>negative</td>\n",
              "      <td>[movie, waste, talented, people, hollywood, bu...</td>\n",
              "      <td>0</td>\n",
              "    </tr>\n",
              "    <tr>\n",
              "      <th>49986</th>\n",
              "      <td>This movie is a disgrace to the Major League F...</td>\n",
              "      <td>negative</td>\n",
              "      <td>[movie, disgrace, major, league, franchise, li...</td>\n",
              "      <td>0</td>\n",
              "    </tr>\n",
              "    <tr>\n",
              "      <th>20937</th>\n",
              "      <td>Debra Winger's 1987 \"Black Widow\" is MUCH bett...</td>\n",
              "      <td>negative</td>\n",
              "      <td>[debra, wingers, 1987, black, widow, much, bet...</td>\n",
              "      <td>0</td>\n",
              "    </tr>\n",
              "  </tbody>\n",
              "</table>\n",
              "</div>\n",
              "    <div class=\"colab-df-buttons\">\n",
              "\n",
              "  <div class=\"colab-df-container\">\n",
              "    <button class=\"colab-df-convert\" onclick=\"convertToInteractive('df-af789dea-61f7-472f-88c1-f43c49c7ec81')\"\n",
              "            title=\"Convert this dataframe to an interactive table.\"\n",
              "            style=\"display:none;\">\n",
              "\n",
              "  <svg xmlns=\"http://www.w3.org/2000/svg\" height=\"24px\" viewBox=\"0 -960 960 960\">\n",
              "    <path d=\"M120-120v-720h720v720H120Zm60-500h600v-160H180v160Zm220 220h160v-160H400v160Zm0 220h160v-160H400v160ZM180-400h160v-160H180v160Zm440 0h160v-160H620v160ZM180-180h160v-160H180v160Zm440 0h160v-160H620v160Z\"/>\n",
              "  </svg>\n",
              "    </button>\n",
              "\n",
              "  <style>\n",
              "    .colab-df-container {\n",
              "      display:flex;\n",
              "      gap: 12px;\n",
              "    }\n",
              "\n",
              "    .colab-df-convert {\n",
              "      background-color: #E8F0FE;\n",
              "      border: none;\n",
              "      border-radius: 50%;\n",
              "      cursor: pointer;\n",
              "      display: none;\n",
              "      fill: #1967D2;\n",
              "      height: 32px;\n",
              "      padding: 0 0 0 0;\n",
              "      width: 32px;\n",
              "    }\n",
              "\n",
              "    .colab-df-convert:hover {\n",
              "      background-color: #E2EBFA;\n",
              "      box-shadow: 0px 1px 2px rgba(60, 64, 67, 0.3), 0px 1px 3px 1px rgba(60, 64, 67, 0.15);\n",
              "      fill: #174EA6;\n",
              "    }\n",
              "\n",
              "    .colab-df-buttons div {\n",
              "      margin-bottom: 4px;\n",
              "    }\n",
              "\n",
              "    [theme=dark] .colab-df-convert {\n",
              "      background-color: #3B4455;\n",
              "      fill: #D2E3FC;\n",
              "    }\n",
              "\n",
              "    [theme=dark] .colab-df-convert:hover {\n",
              "      background-color: #434B5C;\n",
              "      box-shadow: 0px 1px 3px 1px rgba(0, 0, 0, 0.15);\n",
              "      filter: drop-shadow(0px 1px 2px rgba(0, 0, 0, 0.3));\n",
              "      fill: #FFFFFF;\n",
              "    }\n",
              "  </style>\n",
              "\n",
              "    <script>\n",
              "      const buttonEl =\n",
              "        document.querySelector('#df-af789dea-61f7-472f-88c1-f43c49c7ec81 button.colab-df-convert');\n",
              "      buttonEl.style.display =\n",
              "        google.colab.kernel.accessAllowed ? 'block' : 'none';\n",
              "\n",
              "      async function convertToInteractive(key) {\n",
              "        const element = document.querySelector('#df-af789dea-61f7-472f-88c1-f43c49c7ec81');\n",
              "        const dataTable =\n",
              "          await google.colab.kernel.invokeFunction('convertToInteractive',\n",
              "                                                    [key], {});\n",
              "        if (!dataTable) return;\n",
              "\n",
              "        const docLinkHtml = 'Like what you see? Visit the ' +\n",
              "          '<a target=\"_blank\" href=https://colab.research.google.com/notebooks/data_table.ipynb>data table notebook</a>'\n",
              "          + ' to learn more about interactive tables.';\n",
              "        element.innerHTML = '';\n",
              "        dataTable['output_type'] = 'display_data';\n",
              "        await google.colab.output.renderOutput(dataTable, element);\n",
              "        const docLink = document.createElement('div');\n",
              "        docLink.innerHTML = docLinkHtml;\n",
              "        element.appendChild(docLink);\n",
              "      }\n",
              "    </script>\n",
              "  </div>\n",
              "\n",
              "\n",
              "<div id=\"df-84c23aa9-3de5-4322-a6b6-4bb7daf50052\">\n",
              "  <button class=\"colab-df-quickchart\" onclick=\"quickchart('df-84c23aa9-3de5-4322-a6b6-4bb7daf50052')\"\n",
              "            title=\"Suggest charts\"\n",
              "            style=\"display:none;\">\n",
              "\n",
              "<svg xmlns=\"http://www.w3.org/2000/svg\" height=\"24px\"viewBox=\"0 0 24 24\"\n",
              "     width=\"24px\">\n",
              "    <g>\n",
              "        <path d=\"M19 3H5c-1.1 0-2 .9-2 2v14c0 1.1.9 2 2 2h14c1.1 0 2-.9 2-2V5c0-1.1-.9-2-2-2zM9 17H7v-7h2v7zm4 0h-2V7h2v10zm4 0h-2v-4h2v4z\"/>\n",
              "    </g>\n",
              "</svg>\n",
              "  </button>\n",
              "\n",
              "<style>\n",
              "  .colab-df-quickchart {\n",
              "      --bg-color: #E8F0FE;\n",
              "      --fill-color: #1967D2;\n",
              "      --hover-bg-color: #E2EBFA;\n",
              "      --hover-fill-color: #174EA6;\n",
              "      --disabled-fill-color: #AAA;\n",
              "      --disabled-bg-color: #DDD;\n",
              "  }\n",
              "\n",
              "  [theme=dark] .colab-df-quickchart {\n",
              "      --bg-color: #3B4455;\n",
              "      --fill-color: #D2E3FC;\n",
              "      --hover-bg-color: #434B5C;\n",
              "      --hover-fill-color: #FFFFFF;\n",
              "      --disabled-bg-color: #3B4455;\n",
              "      --disabled-fill-color: #666;\n",
              "  }\n",
              "\n",
              "  .colab-df-quickchart {\n",
              "    background-color: var(--bg-color);\n",
              "    border: none;\n",
              "    border-radius: 50%;\n",
              "    cursor: pointer;\n",
              "    display: none;\n",
              "    fill: var(--fill-color);\n",
              "    height: 32px;\n",
              "    padding: 0;\n",
              "    width: 32px;\n",
              "  }\n",
              "\n",
              "  .colab-df-quickchart:hover {\n",
              "    background-color: var(--hover-bg-color);\n",
              "    box-shadow: 0 1px 2px rgba(60, 64, 67, 0.3), 0 1px 3px 1px rgba(60, 64, 67, 0.15);\n",
              "    fill: var(--button-hover-fill-color);\n",
              "  }\n",
              "\n",
              "  .colab-df-quickchart-complete:disabled,\n",
              "  .colab-df-quickchart-complete:disabled:hover {\n",
              "    background-color: var(--disabled-bg-color);\n",
              "    fill: var(--disabled-fill-color);\n",
              "    box-shadow: none;\n",
              "  }\n",
              "\n",
              "  .colab-df-spinner {\n",
              "    border: 2px solid var(--fill-color);\n",
              "    border-color: transparent;\n",
              "    border-bottom-color: var(--fill-color);\n",
              "    animation:\n",
              "      spin 1s steps(1) infinite;\n",
              "  }\n",
              "\n",
              "  @keyframes spin {\n",
              "    0% {\n",
              "      border-color: transparent;\n",
              "      border-bottom-color: var(--fill-color);\n",
              "      border-left-color: var(--fill-color);\n",
              "    }\n",
              "    20% {\n",
              "      border-color: transparent;\n",
              "      border-left-color: var(--fill-color);\n",
              "      border-top-color: var(--fill-color);\n",
              "    }\n",
              "    30% {\n",
              "      border-color: transparent;\n",
              "      border-left-color: var(--fill-color);\n",
              "      border-top-color: var(--fill-color);\n",
              "      border-right-color: var(--fill-color);\n",
              "    }\n",
              "    40% {\n",
              "      border-color: transparent;\n",
              "      border-right-color: var(--fill-color);\n",
              "      border-top-color: var(--fill-color);\n",
              "    }\n",
              "    60% {\n",
              "      border-color: transparent;\n",
              "      border-right-color: var(--fill-color);\n",
              "    }\n",
              "    80% {\n",
              "      border-color: transparent;\n",
              "      border-right-color: var(--fill-color);\n",
              "      border-bottom-color: var(--fill-color);\n",
              "    }\n",
              "    90% {\n",
              "      border-color: transparent;\n",
              "      border-bottom-color: var(--fill-color);\n",
              "    }\n",
              "  }\n",
              "</style>\n",
              "\n",
              "  <script>\n",
              "    async function quickchart(key) {\n",
              "      const quickchartButtonEl =\n",
              "        document.querySelector('#' + key + ' button');\n",
              "      quickchartButtonEl.disabled = true;  // To prevent multiple clicks.\n",
              "      quickchartButtonEl.classList.add('colab-df-spinner');\n",
              "      try {\n",
              "        const charts = await google.colab.kernel.invokeFunction(\n",
              "            'suggestCharts', [key], {});\n",
              "      } catch (error) {\n",
              "        console.error('Error during call to suggestCharts:', error);\n",
              "      }\n",
              "      quickchartButtonEl.classList.remove('colab-df-spinner');\n",
              "      quickchartButtonEl.classList.add('colab-df-quickchart-complete');\n",
              "    }\n",
              "    (() => {\n",
              "      let quickchartButtonEl =\n",
              "        document.querySelector('#df-84c23aa9-3de5-4322-a6b6-4bb7daf50052 button');\n",
              "      quickchartButtonEl.style.display =\n",
              "        google.colab.kernel.accessAllowed ? 'block' : 'none';\n",
              "    })();\n",
              "  </script>\n",
              "</div>\n",
              "\n",
              "    </div>\n",
              "  </div>\n"
            ],
            "application/vnd.google.colaboratory.intrinsic+json": {
              "type": "dataframe",
              "variable_name": "df_train",
              "summary": "{\n  \"name\": \"df_train\",\n  \"rows\": 40000,\n  \"fields\": [\n    {\n      \"column\": \"review\",\n      \"properties\": {\n        \"dtype\": \"string\",\n        \"num_unique_values\": 39738,\n        \"samples\": [\n          \"Basically there's a family where a little boy (Jake) thinks there's a zombie in his closet & his parents are fighting all the time.<br /><br />This movie is slower than a soap opera... and suddenly, Jake decides to become Rambo and kill the zombie.<br /><br />OK, first of all when you're going to make a film you must Decide if its a thriller or a drama! As a drama the movie is watchable. Parents are divorcing & arguing like in real life. And then we have Jake with his closet which totally ruins all the film! I expected to see a BOOGEYMAN similar movie, and instead i watched a drama with some meaningless thriller spots.<br /><br />3 out of 10 just for the well playing parents & descent dialogs. As for the shots with Jake: just ignore them.\",\n          \"Like most other reviewers I have first seen this movie (on TV, never on the big screen), when I was a teenager. My Dad has always regarded this film highly and recommended it to me then, and I must say he was not only right, but this movie has stayed with me forever in the more than 2 decades since I saw it first time. I have seen it two or three more times since then (just a few days ago I gave it another watch) and it has not lost anything of its impact with time. It still a great and well worth to be seen movie! Manr regard Peckinpah's RIDE THE HIGH COUNTRY as one of the first and best later western, which had a realistic look at life in the old west, but the hardly known LAST HUNT is definitely the better movie and was even half a dozen years earlier. Actually it was probably 3 decades ahead of its time, or maybe it still is ...<br /><br />Although thinking hard and having certainly seen 100s of western (I like this genre) I can not remember any western as bleak and depressive as this one. Two men bound together, partly by hate, partly by not seeming to have other choices, surrounded by beautiful Ms. Padget, a crippled old man and a young Inian, leading the life of buffalo-killers until fate reaches out for one of them.<br /><br />Nobody who has ever seen this movie will be able to forget its ending and the last frames of this gem. When the camera moves on and away from Mr. Taylor a white buffalo skin comes into sight (on a tree)and echos from the past, when all the hatred began, are present again. Mr. Taylor has got his buffalo, but in the end the buffalo got him. <br /><br />Aside from the top performances of everybody involved, the intelligent script and the great dialogue, it should also be mentioned, that THE LAST HUNT is superbly photograped, I have seldomely seen a western that well shot (aside from the ones directed by Anthony Mann, which are also all superbly photographed), that all the locations are cleverly chosen and that even the soundtrack fits the picture very well.<br /><br />And director BROOKS is really a superb storyteller. Master craftsmanship!He has made quite a couple of really great movies and was successful in nearly every imaginable genre, but even in an as prolific career as this one, THE LAST HUNT still shines as one of his best, if not his best.<br /><br />Definitely would deserve a higher rating, compared to the 7-something RIDE THE HIGH COUNTRY enjoys.\",\n          \"\\\"Black Angel\\\" is minor whodunit, with June Vincent as a woman trying to save her husband from the electric chair after he is found guilty of killing an old acquaintance. Dan Duryea (the husband of the murdered woman) decides to help Vincent find the real culprit. Peter Lorre has one thankless role as a suspect. This film noir looks and plays like a cheap programmer, never achieving anything special. It is pleasant enough but then, at some point, it stops making sense and the solution to the mystery provokes one of those big \\\"give me a break\\\" reactions. That ending alone could have sank the film completely, but what precedes the conclusion is not very good either. Vincent is a wimpy heroine and Duryea was never very good at playing good guys. I love film noirs, but this one was a real disappointment.\"\n        ],\n        \"semantic_type\": \"\",\n        \"description\": \"\"\n      }\n    },\n    {\n      \"column\": \"sentiment\",\n      \"properties\": {\n        \"dtype\": \"category\",\n        \"num_unique_values\": 2,\n        \"samples\": [\n          \"positive\",\n          \"negative\"\n        ],\n        \"semantic_type\": \"\",\n        \"description\": \"\"\n      }\n    },\n    {\n      \"column\": \"clean_review\",\n      \"properties\": {\n        \"dtype\": \"object\",\n        \"semantic_type\": \"\",\n        \"description\": \"\"\n      }\n    },\n    {\n      \"column\": \"label\",\n      \"properties\": {\n        \"dtype\": \"number\",\n        \"std\": 0,\n        \"min\": 0,\n        \"max\": 1,\n        \"num_unique_values\": 2,\n        \"samples\": [\n          1,\n          0\n        ],\n        \"semantic_type\": \"\",\n        \"description\": \"\"\n      }\n    }\n  ]\n}"
            }
          },
          "metadata": {},
          "execution_count": 17
        }
      ],
      "source": [
        "# df_train.head()\n",
        "df_train['sentiment'].value_counts()\n",
        "\n",
        "df_train['label'] = (df_train['sentiment'] == 'positive')+0\n",
        "df_test['label'] = (df_test['sentiment'] == 'positive')+0\n",
        "\n",
        "df_train.head()"
      ]
    },
    {
      "cell_type": "code",
      "execution_count": null,
      "metadata": {
        "id": "BRfWrXuzaNdQ"
      },
      "outputs": [],
      "source": [
        "from gensim.models import Word2Vec\n",
        "EMBED_SIZE = 80\n",
        "\n",
        "all_reviews = df_train['clean_review'].tolist()\n",
        "all_reviews.extend(df_test['clean_review'].tolist())\n",
        "\n",
        "w2v_model = Word2Vec(sentences=all_reviews, vector_size=EMBED_SIZE)"
      ]
    },
    {
      "cell_type": "code",
      "execution_count": null,
      "metadata": {
        "colab": {
          "base_uri": "https://localhost:8080/"
        },
        "id": "lgvieh7tbiPK",
        "outputId": "97581027-d965-446b-f306-a96c7c14f024"
      },
      "outputs": [
        {
          "output_type": "execute_result",
          "data": {
            "text/plain": [
              "[('filmmaking', 0.6976503133773804),\n",
              " ('arthouse', 0.6869439482688904),\n",
              " ('cinemas', 0.6576771140098572),\n",
              " ('cinematic', 0.6561885476112366),\n",
              " ('documentaries', 0.6120121479034424),\n",
              " ('bollywood', 0.5942038297653198),\n",
              " ('independent', 0.5937309861183167),\n",
              " ('moviemaking', 0.5882206559181213),\n",
              " ('filmmaker', 0.5858333706855774),\n",
              " ('mainstream', 0.5825714468955994)]"
            ]
          },
          "metadata": {},
          "execution_count": 19
        }
      ],
      "source": [
        "# w2v_model.wv['movie']\n",
        "# w2v_model.wv['computer']\n",
        "# w2v_model.wv.index_to_key[0]\n",
        "\n",
        "w2v_model.wv.most_similar('cinema',topn=10)"
      ]
    },
    {
      "cell_type": "code",
      "execution_count": null,
      "metadata": {
        "id": "LhnNQrtVcKtf"
      },
      "outputs": [],
      "source": [
        "import torch\n",
        "import torch.utils.data as DataLoader\n",
        "import torch.nn as nn\n",
        "import torch.nn.functional as F\n",
        "SEQ_LEN = 200\n",
        "\n",
        "def convert_seq_to_tensor(seq,num_tokens_in_seq,embed_size):\n",
        "  num_seq = len(seq)\n",
        "  print((num_seq,num_tokens_in_seq,embed_size))\n",
        "\n",
        "  data_tensor = torch.zeros((num_seq,num_tokens_in_seq,embed_size))\n",
        "\n",
        "  for index,review in enumerate(list(seq)):\n",
        "    trunc_clean_review = review[:num_tokens_in_seq]\n",
        "    list_of_word_embed = [w2v_model.wv[word] if word in w2v_model.wv else [0.0]*embed_size for word in trunc_clean_review]\n",
        "\n",
        "    seq_tensor = torch.FloatTensor(list_of_word_embed)\n",
        "    review_len = seq_tensor.shape[0]\n",
        "    data_tensor[index,0:review_len,:] = seq_tensor\n",
        "\n",
        "  return data_tensor"
      ]
    },
    {
      "cell_type": "code",
      "execution_count": null,
      "metadata": {
        "colab": {
          "base_uri": "https://localhost:8080/"
        },
        "id": "bGwGjwkSgPm_",
        "outputId": "8fe7d62d-e728-41bb-e911-ae92a3fd57ff"
      },
      "outputs": [
        {
          "output_type": "stream",
          "name": "stdout",
          "text": [
            "(40000, 200, 80)\n"
          ]
        },
        {
          "output_type": "stream",
          "name": "stderr",
          "text": [
            "<ipython-input-20-0225e26619fd>:17: UserWarning: Creating a tensor from a list of numpy.ndarrays is extremely slow. Please consider converting the list to a single numpy.ndarray with numpy.array() before converting to a tensor. (Triggered internally at ../torch/csrc/utils/tensor_new.cpp:278.)\n",
            "  seq_tensor = torch.FloatTensor(list_of_word_embed)\n"
          ]
        },
        {
          "output_type": "stream",
          "name": "stdout",
          "text": [
            "(10000, 200, 80)\n"
          ]
        }
      ],
      "source": [
        "train_data_X = convert_seq_to_tensor(df_train['clean_review'].to_numpy(), SEQ_LEN, EMBED_SIZE)\n",
        "train_data_y = torch.FloatTensor([int(d) for d in df_train['label'].to_numpy()])\n",
        "\n",
        "test_data_X = convert_seq_to_tensor(df_test['clean_review'].to_numpy(), SEQ_LEN, EMBED_SIZE)\n",
        "test_data_y = torch.FloatTensor([int(d) for d in df_test['label'].to_numpy()])"
      ]
    },
    {
      "cell_type": "code",
      "execution_count": null,
      "metadata": {
        "colab": {
          "base_uri": "https://localhost:8080/"
        },
        "id": "UDmcvqkGhAdq",
        "outputId": "92a8bd4a-31c7-41b9-b582-88c518c27808"
      },
      "outputs": [
        {
          "output_type": "stream",
          "name": "stdout",
          "text": [
            "Example Sequence\n",
            "tensor([[ 2.4610e+00, -1.4384e+00, -7.8519e-01,  ..., -2.3497e+00,\n",
            "         -1.0717e+00,  6.1178e-01],\n",
            "        [ 1.7176e-01,  5.1889e-01, -6.2110e-01,  ..., -2.1477e+00,\n",
            "          5.4339e-01,  3.3986e-01],\n",
            "        [ 8.3481e-01, -3.6101e-01, -6.6140e-01,  ...,  1.3234e-01,\n",
            "          2.4775e-01, -5.4599e-01],\n",
            "        ...,\n",
            "        [-2.0393e+00,  2.4901e-01, -8.0727e-01,  ...,  2.5477e-02,\n",
            "          4.3354e-02, -9.6511e-01],\n",
            "        [-3.3868e-02, -5.9854e-02,  1.9259e-02,  ..., -7.6142e-02,\n",
            "         -9.3185e-02, -9.2553e-02],\n",
            "        [ 1.3352e-01,  2.8782e-01,  3.1038e-01,  ...,  4.0412e-03,\n",
            "         -1.3220e-03,  2.5676e-02]])\n",
            "Example Label\n",
            "tensor(0.)\n"
          ]
        }
      ],
      "source": [
        "print('Example Sequence')\n",
        "print(train_data_X[0])\n",
        "\n",
        "print('Example Label')\n",
        "print(train_data_y[0])"
      ]
    },
    {
      "cell_type": "code",
      "execution_count": null,
      "metadata": {
        "id": "fz36VqyOhmGB"
      },
      "outputs": [],
      "source": [
        "train_data = torch.utils.data.TensorDataset(train_data_X,train_data_y)\n",
        "test_data = torch.utils.data.TensorDataset(test_data_X,test_data_y)"
      ]
    },
    {
      "cell_type": "code",
      "execution_count": null,
      "metadata": {
        "id": "KU4V4uuDhqXr"
      },
      "outputs": [],
      "source": [
        "batch_size = 100\n",
        "train_loader = DataLoader.DataLoader(train_data,shuffle=True,batch_size=batch_size)\n",
        "test_loader = DataLoader.DataLoader(test_data,shuffle=True,batch_size=batch_size)\n"
      ]
    },
    {
      "cell_type": "code",
      "execution_count": null,
      "metadata": {
        "colab": {
          "base_uri": "https://localhost:8080/",
          "height": 55
        },
        "id": "tibb0XECh1xT",
        "outputId": "2f9f4eab-909f-40f6-a3e5-ffb9004b64f8"
      },
      "outputs": [
        {
          "output_type": "execute_result",
          "data": {
            "text/plain": [
              "'cuda:0'"
            ],
            "application/vnd.google.colaboratory.intrinsic+json": {
              "type": "string"
            }
          },
          "metadata": {},
          "execution_count": 25
        }
      ],
      "source": [
        "device = 'cuda:0' if torch.cuda.is_available() else 'cpu'\n",
        "device"
      ]
    },
    {
      "cell_type": "code",
      "execution_count": null,
      "metadata": {
        "id": "yyCzTMduiEgo"
      },
      "outputs": [],
      "source": [
        "class LSTM(nn.Module):\n",
        "  def __init__(self,input_size,hidden_size,num_stacked_layers, drop_prob=0.6):\n",
        "    super(LSTM,self).__init__()\n",
        "    self.hidden_size = hidden_size\n",
        "    self.num_stacked_layers = num_stacked_layers\n",
        "\n",
        "    self.lstm = nn.LSTM(input_size,hidden_size,num_stacked_layers,batch_first=True)\n",
        "    self.dropout = nn.Dropout(drop_prob)\n",
        "    self.fc = nn.Linear(hidden_size,1)\n",
        "    self.sigmoid = nn.Sigmoid()\n",
        "\n",
        "  def forward(self,x):\n",
        "    batch_size = x.size(0)\n",
        "    h0 = torch.zeros((self.num_stacked_layers,batch_size,self.hidden_size)).to(device)\n",
        "    c0 = torch.zeros((self.num_stacked_layers,batch_size,self.hidden_size)).to(device)\n",
        "\n",
        "    out,hidden = self.lstm(x,(h0,c0))\n",
        "    out = out.contiguous().view(-1,self.hidden_size)\n",
        "    out = self.dropout(out)\n",
        "    out = self.fc(out)\n",
        "    out = self.sigmoid(out)\n",
        "    out = out.view(batch_size,-1)\n",
        "    out = out[:,-1]\n",
        "\n",
        "    return out,hidden"
      ]
    },
    {
      "cell_type": "code",
      "execution_count": null,
      "metadata": {
        "colab": {
          "base_uri": "https://localhost:8080/"
        },
        "id": "iUQkgIWVkZQh",
        "outputId": "e0e97aff-90a7-4531-d409-42fa41f5b12f"
      },
      "outputs": [
        {
          "output_type": "stream",
          "name": "stdout",
          "text": [
            "LSTM(\n",
            "  (lstm): LSTM(80, 128, num_layers=4, batch_first=True)\n",
            "  (dropout): Dropout(p=0.6, inplace=False)\n",
            "  (fc): Linear(in_features=128, out_features=1, bias=True)\n",
            "  (sigmoid): Sigmoid()\n",
            ")\n"
          ]
        }
      ],
      "source": [
        "LSTM_INPUT_SIZE = EMBED_SIZE\n",
        "LSTM_HIDDEN_SIZE = 128\n",
        "LSTM_NUM_LAYERS = 4\n",
        "\n",
        "model = LSTM(LSTM_INPUT_SIZE,LSTM_HIDDEN_SIZE,LSTM_NUM_LAYERS)\n",
        "model.to(device)\n",
        "print(model)\n",
        "#"
      ]
    },
    {
      "cell_type": "code",
      "execution_count": null,
      "metadata": {
        "id": "3FTjk5IFkkhy"
      },
      "outputs": [],
      "source": [
        "import numpy as np\n",
        "lr = 0.001\n",
        "loss = nn.BCELoss()\n",
        "optimizer = torch.optim.Adam(model.parameters(),lr=lr)\n",
        "epochs = 60\n",
        "\n",
        "def acc(pred,labels):\n",
        "  pred = torch.round(pred.squeeze())\n",
        "  return torch.sum(pred == labels.squeeze()).item()"
      ]
    },
    {
      "cell_type": "code",
      "execution_count": null,
      "metadata": {
        "id": "sR3TbE4pk5GK"
      },
      "outputs": [],
      "source": [
        "def train_loop(model,train_loader,loss,optimizer):\n",
        "  model.train()\n",
        "  train_acc = 0;0\n",
        "  train_loss = []\n",
        "\n",
        "  for inputs, labels in train_loader:\n",
        "    inputs,labels = inputs.to(device),labels.to(device)\n",
        "    outputs,h = model(inputs)\n",
        "    loss_val = loss(outputs,labels)\n",
        "    optimizer.zero_grad()\n",
        "    loss_val.backward()\n",
        "    optimizer.step()\n",
        "\n",
        "    train_loss.append(loss_val.item())\n",
        "    train_acc += acc(outputs,labels)\n",
        "\n",
        "  epochs_train_loss = np.mean(train_loss)\n",
        "  epochs_train_acc = (train_acc/len(train_loader.dataset))*100.0\n",
        "\n",
        "  return epochs_train_loss,epochs_train_acc"
      ]
    },
    {
      "cell_type": "code",
      "execution_count": null,
      "metadata": {
        "id": "8fYUS-DAmAcB"
      },
      "outputs": [],
      "source": [
        "def test_loop(model,test_loader,loss):\n",
        "  model.eval()\n",
        "  test_acc = 0;0\n",
        "  test_loss = []\n",
        "  with torch.no_grad():\n",
        "    for inputs, labels in test_loader:\n",
        "      inputs,labels = inputs.to(device),labels.to(device)\n",
        "      outputs,h = model(inputs)\n",
        "      loss_val = loss(outputs,labels)\n",
        "\n",
        "      test_loss.append(loss_val.item())\n",
        "      test_acc += acc(outputs,labels)\n",
        "\n",
        "  epochs_test_loss = np.mean(test_loss)\n",
        "  epochs_test_acc = (test_acc/len(test_loader.dataset))*100.0\n",
        "\n",
        "  return epochs_test_loss,epochs_test_acc"
      ]
    },
    {
      "cell_type": "code",
      "execution_count": null,
      "metadata": {
        "colab": {
          "base_uri": "https://localhost:8080/"
        },
        "id": "7dDjs2AjmiCa",
        "outputId": "cd9de78e-b449-40d0-a15d-be134b855b47"
      },
      "outputs": [
        {
          "output_type": "stream",
          "name": "stdout",
          "text": [
            "Epoch 1/60,  Train Loss: 0.4508   Train Accuracy: 78.7975 Test Loss: 0.3253   Test Accuracy: 86.5700\n",
            "Epoch 2/60,  Train Loss: 0.3196   Train Accuracy: 86.9200 Test Loss: 0.3106   Test Accuracy: 87.2600\n",
            "Epoch 3/60,  Train Loss: 0.3847   Train Accuracy: 82.0125 Test Loss: 0.4047   Test Accuracy: 80.7400\n",
            "Epoch 4/60,  Train Loss: 0.3625   Train Accuracy: 83.0875 Test Loss: 0.3455   Test Accuracy: 84.2600\n",
            "Epoch 5/60,  Train Loss: 0.3352   Train Accuracy: 85.1625 Test Loss: 0.3622   Test Accuracy: 83.6400\n",
            "Epoch 6/60,  Train Loss: 0.2981   Train Accuracy: 87.4500 Test Loss: 0.2902   Test Accuracy: 88.4900\n",
            "Epoch 7/60,  Train Loss: 0.2765   Train Accuracy: 88.9425 Test Loss: 0.2794   Test Accuracy: 88.8100\n",
            "Epoch 8/60,  Train Loss: 0.2427   Train Accuracy: 90.3725 Test Loss: 0.2579   Test Accuracy: 89.3800\n",
            "Epoch 9/60,  Train Loss: 0.2241   Train Accuracy: 91.3850 Test Loss: 0.2690   Test Accuracy: 89.4200\n",
            "Epoch 10/60,  Train Loss: 0.2146   Train Accuracy: 91.5600 Test Loss: 0.2623   Test Accuracy: 89.3700\n",
            "Epoch 11/60,  Train Loss: 0.2010   Train Accuracy: 92.2925 Test Loss: 0.2720   Test Accuracy: 89.6800\n",
            "Epoch 12/60,  Train Loss: 0.1853   Train Accuracy: 93.1125 Test Loss: 0.2777   Test Accuracy: 89.8800\n",
            "Epoch 13/60,  Train Loss: 0.1674   Train Accuracy: 93.7900 Test Loss: 0.2635   Test Accuracy: 89.6500\n",
            "Epoch 14/60,  Train Loss: 0.1659   Train Accuracy: 93.9375 Test Loss: 0.3009   Test Accuracy: 89.0900\n",
            "Epoch 15/60,  Train Loss: 0.2064   Train Accuracy: 91.9100 Test Loss: 0.2661   Test Accuracy: 89.6200\n",
            "Epoch 16/60,  Train Loss: 0.2517   Train Accuracy: 90.0450 Test Loss: 0.2895   Test Accuracy: 88.4000\n",
            "Epoch 17/60,  Train Loss: 0.2203   Train Accuracy: 91.4075 Test Loss: 0.2669   Test Accuracy: 89.4600\n",
            "Epoch 18/60,  Train Loss: 0.1817   Train Accuracy: 92.9200 Test Loss: 0.2814   Test Accuracy: 89.6700\n",
            "Epoch 19/60,  Train Loss: 0.1618   Train Accuracy: 93.9600 Test Loss: 0.2701   Test Accuracy: 89.6500\n",
            "Epoch 20/60,  Train Loss: 0.1496   Train Accuracy: 94.4925 Test Loss: 0.2953   Test Accuracy: 89.4600\n",
            "Epoch 21/60,  Train Loss: 0.1572   Train Accuracy: 94.0525 Test Loss: 0.3362   Test Accuracy: 85.9400\n",
            "Epoch 22/60,  Train Loss: 0.2099   Train Accuracy: 91.7575 Test Loss: 0.2811   Test Accuracy: 89.4400\n",
            "Epoch 23/60,  Train Loss: 0.1664   Train Accuracy: 93.7525 Test Loss: 0.3135   Test Accuracy: 89.4100\n",
            "Epoch 24/60,  Train Loss: 0.1484   Train Accuracy: 94.6350 Test Loss: 0.2974   Test Accuracy: 89.5300\n",
            "Epoch 25/60,  Train Loss: 0.1314   Train Accuracy: 95.2575 Test Loss: 0.3147   Test Accuracy: 89.4600\n",
            "Epoch 26/60,  Train Loss: 0.1269   Train Accuracy: 95.5600 Test Loss: 0.3158   Test Accuracy: 89.3200\n",
            "Epoch 27/60,  Train Loss: 0.1362   Train Accuracy: 95.1175 Test Loss: 0.3170   Test Accuracy: 89.2100\n",
            "Epoch 28/60,  Train Loss: 0.1157   Train Accuracy: 96.0775 Test Loss: 0.3484   Test Accuracy: 89.1600\n",
            "Epoch 29/60,  Train Loss: 0.0984   Train Accuracy: 96.7875 Test Loss: 0.3781   Test Accuracy: 88.8400\n",
            "Epoch 30/60,  Train Loss: 0.0971   Train Accuracy: 96.8725 Test Loss: 0.3664   Test Accuracy: 89.0400\n",
            "Epoch 31/60,  Train Loss: 0.0858   Train Accuracy: 97.3175 Test Loss: 0.3742   Test Accuracy: 89.0000\n",
            "Epoch 32/60,  Train Loss: 0.0915   Train Accuracy: 97.0700 Test Loss: 0.3905   Test Accuracy: 88.9000\n",
            "Epoch 33/60,  Train Loss: 0.1316   Train Accuracy: 95.2900 Test Loss: 0.3522   Test Accuracy: 88.8600\n",
            "Epoch 34/60,  Train Loss: 0.1997   Train Accuracy: 92.0475 Test Loss: 0.3079   Test Accuracy: 88.5800\n",
            "Epoch 35/60,  Train Loss: 0.1888   Train Accuracy: 92.6325 Test Loss: 0.3035   Test Accuracy: 89.3500\n",
            "Epoch 36/60,  Train Loss: 0.1502   Train Accuracy: 94.2975 Test Loss: 0.3221   Test Accuracy: 89.2800\n",
            "Epoch 37/60,  Train Loss: 0.1206   Train Accuracy: 95.8200 Test Loss: 0.3525   Test Accuracy: 89.3300\n",
            "Epoch 38/60,  Train Loss: 0.1015   Train Accuracy: 96.6625 Test Loss: 0.3786   Test Accuracy: 88.8400\n",
            "Epoch 39/60,  Train Loss: 0.0818   Train Accuracy: 97.4425 Test Loss: 0.3761   Test Accuracy: 88.9900\n",
            "Epoch 40/60,  Train Loss: 0.0688   Train Accuracy: 97.9525 Test Loss: 0.3643   Test Accuracy: 89.1700\n",
            "Epoch 41/60,  Train Loss: 0.0630   Train Accuracy: 98.1750 Test Loss: 0.4468   Test Accuracy: 88.5700\n",
            "Epoch 42/60,  Train Loss: 0.0546   Train Accuracy: 98.5250 Test Loss: 0.4425   Test Accuracy: 88.5700\n",
            "Epoch 43/60,  Train Loss: 0.0485   Train Accuracy: 98.7000 Test Loss: 0.4705   Test Accuracy: 88.7600\n",
            "Epoch 44/60,  Train Loss: 0.0459   Train Accuracy: 98.7225 Test Loss: 0.5013   Test Accuracy: 88.9300\n",
            "Epoch 45/60,  Train Loss: 0.0544   Train Accuracy: 98.4025 Test Loss: 0.4186   Test Accuracy: 88.7700\n",
            "Epoch 46/60,  Train Loss: 0.0494   Train Accuracy: 98.5250 Test Loss: 0.4574   Test Accuracy: 88.7200\n",
            "Epoch 47/60,  Train Loss: 0.0416   Train Accuracy: 98.8500 Test Loss: 0.5436   Test Accuracy: 88.4800\n",
            "Epoch 48/60,  Train Loss: 0.0428   Train Accuracy: 98.7650 Test Loss: 0.4688   Test Accuracy: 89.0600\n",
            "Epoch 49/60,  Train Loss: 0.0350   Train Accuracy: 99.0775 Test Loss: 0.4981   Test Accuracy: 88.9200\n",
            "Epoch 50/60,  Train Loss: 0.0363   Train Accuracy: 98.9725 Test Loss: 0.5356   Test Accuracy: 88.9400\n",
            "Epoch 51/60,  Train Loss: 0.0319   Train Accuracy: 99.1350 Test Loss: 0.5379   Test Accuracy: 88.4900\n",
            "Epoch 52/60,  Train Loss: 0.0334   Train Accuracy: 99.0875 Test Loss: 0.4912   Test Accuracy: 88.7000\n",
            "Epoch 53/60,  Train Loss: 0.0392   Train Accuracy: 98.9050 Test Loss: 0.4725   Test Accuracy: 88.7800\n",
            "Epoch 54/60,  Train Loss: 0.0291   Train Accuracy: 99.2150 Test Loss: 0.5400   Test Accuracy: 88.6200\n",
            "Epoch 55/60,  Train Loss: 0.0269   Train Accuracy: 99.2975 Test Loss: 0.5256   Test Accuracy: 88.8800\n",
            "Epoch 56/60,  Train Loss: 0.0262   Train Accuracy: 99.3750 Test Loss: 0.5627   Test Accuracy: 88.4000\n",
            "Epoch 57/60,  Train Loss: 0.0269   Train Accuracy: 99.3150 Test Loss: 0.5637   Test Accuracy: 88.4200\n",
            "Epoch 58/60,  Train Loss: 0.0698   Train Accuracy: 97.4325 Test Loss: 0.7306   Test Accuracy: 50.6900\n",
            "Epoch 59/60,  Train Loss: 0.6428   Train Accuracy: 60.3275 Test Loss: 0.4161   Test Accuracy: 81.8800\n",
            "Epoch 60/60,  Train Loss: 0.3317   Train Accuracy: 86.5525 Test Loss: 0.3037   Test Accuracy: 88.1100\n"
          ]
        }
      ],
      "source": [
        "epoch_train_loss = []\n",
        "epoch_train_acc = []\n",
        "epoch_test_loss = []\n",
        "epoch_test_acc = []\n",
        "\n",
        "for epoch in range(epochs):\n",
        "  train_loss,train_acc = train_loop(model,train_loader,loss,optimizer)\n",
        "  test_loss,test_acc = test_loop(model,test_loader,loss)\n",
        "\n",
        "  # The lists epoch_train_loss, epoch_train_acc, epoch_test_loss, and epoch_test_acc are being formatted as floats.\n",
        "  # You likely intended to format the variables train_loss, train_acc, test_loss, and test_acc instead.\n",
        "  print(f'Epoch {epoch+1}/{epochs},  Train Loss: {train_loss:.4f}   Train Accuracy: {train_acc:.4f} Test Loss: {test_loss:.4f}   Test Accuracy: {test_acc:.4f}')\n",
        "\n",
        "  epoch_train_loss.append(train_loss)\n",
        "  epoch_train_acc.append(train_acc)\n",
        "  epoch_test_loss.append(test_loss)\n",
        "  epoch_test_acc.append(test_acc)"
      ]
    },
    {
      "cell_type": "code",
      "execution_count": null,
      "metadata": {
        "id": "hrPfR88bnXED",
        "colab": {
          "base_uri": "https://localhost:8080/",
          "height": 488
        },
        "outputId": "efc35eb1-0d31-4d04-8a20-bb0c88d1734e"
      },
      "outputs": [
        {
          "output_type": "display_data",
          "data": {
            "text/plain": [
              "<Figure size 1000x500 with 1 Axes>"
            ],
            "image/png": "[encoded data removed]"
          },
          "metadata": {}
        }
      ],
      "source": [
        "import matplotlib.pyplot as plt\n",
        "\n",
        "fig = plt.figure(figsize=(10,5))\n",
        "\n",
        "plt.subplot(1,2,1)\n",
        "plt.plot(epoch_train_acc,label='Train Accuracy')\n",
        "plt.plot(epoch_test_acc,label='Test Accuracy')\n",
        "plt.title('Accuracy')\n",
        "plt.legend()\n",
        "plt.grid()\n",
        "\n",
        "plt.subplot(1,2,1)\n",
        "plt.plot(epoch_train_loss,label='Train Loss')\n",
        "plt.plot(epoch_test_loss,label='Test Loss')\n",
        "plt.title('Loss')\n",
        "plt.legend()\n",
        "plt.grid()\n",
        "\n",
        "plt.show()"
      ]
    }
  ],
  "metadata": {
    "colab": {
      "provenance": [],
      "gpuType": "T4",
      "authorship_tag": "ABX9TyPmU0S9cqxXXSTEhW+5RVWO",
      "include_colab_link": true
    },
    "kernelspec": {
      "display_name": "Python 3",
      "name": "python3"
    },
    "language_info": {
      "name": "python"
    },
    "accelerator": "GPU"
  },
  "nbformat": 4,
  "nbformat_minor": 0
}