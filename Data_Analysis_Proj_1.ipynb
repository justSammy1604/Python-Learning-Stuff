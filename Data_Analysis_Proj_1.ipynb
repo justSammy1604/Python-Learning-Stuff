{
 "cells": [
  {
   "cell_type": "code",
   "execution_count": 2,
   "id": "22e8143f",
   "metadata": {},
   "outputs": [],
   "source": [
    "import numpy as np\n",
    "\n",
    "def calculate(list):\n",
    "    if len(list) != 9:\n",
    "        raise ValueError(\"List must contain 9 numbers\")\n",
    "        \n",
    "    list = np.array(list).reshape((3,3))\n",
    "    \n",
    "    calculations = {}\n",
    "    \n",
    "    calculations['mean'] = [list.mean(axis=0).tolist(), list.mean(axis=1).tolist(),np.mean(list).tolist()]\n",
    "    calculations['variance'] = [list.var(axis=0).tolist(), list.var(axis=1).tolist(), np.var(list).tolist()]    \n",
    "    calculations['standard deviation'] = [list.std(axis=0).tolist(), list.std(axis=1).tolist(),np.std(list).tolist()]    \n",
    "    calculations['max'] = [list.max(axis=0).tolist(), list.max(axis=1).tolist(),np.max(list).tolist()]    \n",
    "    calculations['min'] = [list.min(axis=0).tolist(), list.min(axis=1).tolist(),np.min(list).tolist()]    \n",
    "    calculations['sum'] = [list.sum(axis=0).tolist(), list.sum(axis=1).tolist(),np.sum(list).tolist()]\n",
    "    \n",
    "    return calculations"
   ]
  },
  {
   "cell_type": "code",
   "execution_count": 3,
   "id": "cd09af72",
   "metadata": {},
   "outputs": [
    {
     "name": "stdout",
     "output_type": "stream",
     "text": [
      "{'mean': [[3.0, 4.0, 5.0], [1.0, 4.0, 7.0], 4.0], 'variance': [[6.0, 6.0, 6.0], [0.6666666666666666, 0.6666666666666666, 0.6666666666666666], 6.666666666666667], 'standard deviation': [[2.449489742783178, 2.449489742783178, 2.449489742783178], [0.816496580927726, 0.816496580927726, 0.816496580927726], 2.581988897471611], 'max': [[6, 7, 8], [2, 5, 8], 8], 'min': [[0, 1, 2], [0, 3, 6], 0], 'sum': [[9, 12, 15], [3, 12, 21], 36]}\n"
     ]
    }
   ],
   "source": [
    "print(calculate([0,1,2,3,4,5,6,7,8]))"
   ]
  }
 ],
 "metadata": {
  "kernelspec": {
   "display_name": "Python 3 (ipykernel)",
   "language": "python",
   "name": "python3"
  },
  "language_info": {
   "codemirror_mode": {
    "name": "ipython",
    "version": 3
   },
   "file_extension": ".py",
   "mimetype": "text/x-python",
   "name": "python",
   "nbconvert_exporter": "python",
   "pygments_lexer": "ipython3",
   "version": "3.11.3"
  }
 },
 "nbformat": 4,
 "nbformat_minor": 5
}
